{
  "cells": [
    {
      "cell_type": "code",
      "execution_count": 1,
      "metadata": {
        "id": "RwVehbhBXQSP"
      },
      "outputs": [],
      "source": [
        "from tensorflow.keras import regularizers\n",
        "import tensorflow as tf\n",
        "from tensorflow import keras\n",
        "from tensorflow.keras import layers\n",
        "from tensorflow.keras import models\n",
        "import numpy as np\n",
        "import pandas as pd"
      ]
    },
    {
      "cell_type": "code",
      "execution_count": 2,
      "metadata": {
        "colab": {
          "base_uri": "https://localhost:8080/"
        },
        "id": "jJBMdM9UXvPH",
        "outputId": "612fcdf2-3945-4531-a4db-50bbe5b7a404"
      },
      "outputs": [
        {
          "name": "stdout",
          "output_type": "stream",
          "text": [
            "Mounted at /content/drive\n",
            "/content/drive/MyDrive/tabular_playground\n"
          ]
        }
      ],
      "source": [
        "# from google.colab import drive\n",
        "# drive.mount('/content/drive')\n",
        "# %cd drive/MyDrive/tabular_playground"
      ]
    },
    {
      "cell_type": "code",
      "execution_count": 3,
      "metadata": {
        "id": "jVN52eIKXqO4"
      },
      "outputs": [],
      "source": [
        "net = models.load_model('net_5908')"
      ]
    },
    {
      "cell_type": "code",
      "execution_count": 4,
      "metadata": {
        "id": "vK5KIyxAZwzv"
      },
      "outputs": [],
      "source": [
        "submit = pd.read_csv('sample_submission.csv')"
      ]
    },
    {
      "cell_type": "code",
      "execution_count": 5,
      "metadata": {
        "id": "2Izfpwjsb3ra"
      },
      "outputs": [],
      "source": [
        "attr_map = {'material_5' : 0, 'material_6' : 1, 'material_7' : 2, 'material_8' : 3,}"
      ]
    },
    {
      "cell_type": "code",
      "execution_count": 6,
      "metadata": {
        "id": "BND6a-MaZ4_2"
      },
      "outputs": [],
      "source": [
        "test = pd.read_csv('test.csv')\n",
        "test['attribute_0'] = test['attribute_0'].map(attr_map)\n",
        "test['attribute_1'] = test['attribute_1'].map(attr_map)"
      ]
    },
    {
      "cell_type": "code",
      "execution_count": 7,
      "metadata": {
        "id": "OU-trbMacVjZ"
      },
      "outputs": [],
      "source": [
        "columns = test.columns"
      ]
    },
    {
      "cell_type": "code",
      "execution_count": 8,
      "metadata": {
        "colab": {
          "base_uri": "https://localhost:8080/"
        },
        "id": "aysn0ZHjcHaE",
        "outputId": "85e034e5-9b26-4e31-f00f-3287c7adf0cc"
      },
      "outputs": [
        {
          "name": "stdout",
          "output_type": "stream",
          "text": [
            "loading\n",
            "127.63489538731024\n",
            "False\n",
            "attribute_0\n",
            "attribute_1\n",
            "attribute_2\n",
            "attribute_3\n",
            "measurement_0\n",
            "measurement_1\n",
            "measurement_2\n",
            "measurement_3\n",
            "17.79346649711435\n",
            "False\n",
            "measurement_4\n",
            "11.727330600019641\n",
            "False\n",
            "measurement_5\n",
            "17.138079932895838\n",
            "False\n",
            "measurement_6\n",
            "17.5157974790333\n",
            "False\n",
            "measurement_7\n",
            "11.71091917227624\n",
            "False\n",
            "measurement_8\n",
            "19.030765015806114\n",
            "False\n",
            "measurement_9\n",
            "11.41792109103719\n",
            "False\n",
            "measurement_10\n",
            "16.123985741830733\n",
            "False\n",
            "measurement_11\n",
            "18.846571414023117\n",
            "False\n",
            "measurement_12\n",
            "11.914229741489635\n",
            "False\n",
            "measurement_13\n",
            "15.736104406327033\n",
            "False\n",
            "measurement_14\n",
            "16.123958158779413\n",
            "False\n",
            "measurement_15\n",
            "15.115915457806894\n",
            "False\n",
            "measurement_16\n",
            "16.636052154788707\n",
            "False\n",
            "measurement_17\n",
            "701.3898163908589\n",
            "False\n"
          ]
        }
      ],
      "source": [
        "for column in columns[2:len(columns)]:\n",
        "  print(column)\n",
        "  if test[column].isnull().any():\n",
        "    # print(csv[column].mean)\n",
        "    temp = test[column].to_numpy()\n",
        "    temp = temp[~np.isnan(temp)]\n",
        "    test[column] = test[column].fillna(np.mean(temp))\n",
        "    print(np.mean(temp))\n",
        "    print(test[column].isnull().any())"
      ]
    },
    {
      "cell_type": "code",
      "execution_count": 9,
      "metadata": {
        "colab": {
          "base_uri": "https://localhost:8080/"
        },
        "id": "Xp7-XFsratch",
        "outputId": "d22a7a64-568f-41a8-e585-c8382bbeee79"
      },
      "outputs": [
        {
          "data": {
            "text/plain": [
              "(20775, 23)"
            ]
          },
          "execution_count": 9,
          "metadata": {},
          "output_type": "execute_result"
        }
      ],
      "source": [
        "x_sub = test.to_numpy()[:, 2 : 25]\n",
        "id = test.to_numpy()[:, 0]\n",
        "x_sub.shape"
      ]
    },
    {
      "cell_type": "code",
      "execution_count": 10,
      "metadata": {
        "colab": {
          "base_uri": "https://localhost:8080/"
        },
        "id": "7xh4U2Zib_N2",
        "outputId": "9d25b2d2-ffa9-4bf1-ba23-6dd911993774"
      },
      "outputs": [
        {
          "name": "stdout",
          "output_type": "stream",
          "text": [
            "650/650 [==============================] - 2s 2ms/step\n"
          ]
        },
        {
          "data": {
            "text/plain": [
              "((20775,), (20775, 23))"
            ]
          },
          "execution_count": 10,
          "metadata": {},
          "output_type": "execute_result"
        }
      ],
      "source": [
        "x_sub = np.array(x_sub).astype('float32')\n",
        "y_pred = np.array(net.predict(x_sub)[:, 0])\n",
        "y_pred.shape, x_sub.shape"
      ]
    },
    {
      "cell_type": "code",
      "execution_count": 11,
      "metadata": {
        "id": "qRyAd1bEcAul"
      },
      "outputs": [],
      "source": [
        "state = {}\n",
        "max_prob = max(y_pred)\n",
        "for idx, value in enumerate(y_pred):\n",
        "  # state[id[idx]] = min(1, value * (1 / max_prob))\n",
        "  state[id[idx]] = value"
      ]
    },
    {
      "cell_type": "code",
      "execution_count": 12,
      "metadata": {
        "colab": {
          "base_uri": "https://localhost:8080/",
          "height": 424
        },
        "id": "aUMiSp7QcB8c",
        "outputId": "d31e7981-f2bd-4e60-b3a0-ffd50ebd7bba"
      },
      "outputs": [
        {
          "data": {
            "text/html": [
              "\n",
              "  <div id=\"df-cb83ea2a-fa2d-45d2-a6b2-09b2434da95a\">\n",
              "    <div class=\"colab-df-container\">\n",
              "      <div>\n",
              "<style scoped>\n",
              "    .dataframe tbody tr th:only-of-type {\n",
              "        vertical-align: middle;\n",
              "    }\n",
              "\n",
              "    .dataframe tbody tr th {\n",
              "        vertical-align: top;\n",
              "    }\n",
              "\n",
              "    .dataframe thead th {\n",
              "        text-align: right;\n",
              "    }\n",
              "</style>\n",
              "<table border=\"1\" class=\"dataframe\">\n",
              "  <thead>\n",
              "    <tr style=\"text-align: right;\">\n",
              "      <th></th>\n",
              "      <th>id</th>\n",
              "      <th>failure</th>\n",
              "    </tr>\n",
              "  </thead>\n",
              "  <tbody>\n",
              "    <tr>\n",
              "      <th>0</th>\n",
              "      <td>26570</td>\n",
              "      <td>0.700258</td>\n",
              "    </tr>\n",
              "    <tr>\n",
              "      <th>1</th>\n",
              "      <td>26571</td>\n",
              "      <td>0.660550</td>\n",
              "    </tr>\n",
              "    <tr>\n",
              "      <th>2</th>\n",
              "      <td>26572</td>\n",
              "      <td>0.695365</td>\n",
              "    </tr>\n",
              "    <tr>\n",
              "      <th>3</th>\n",
              "      <td>26573</td>\n",
              "      <td>0.697524</td>\n",
              "    </tr>\n",
              "    <tr>\n",
              "      <th>4</th>\n",
              "      <td>26574</td>\n",
              "      <td>0.826073</td>\n",
              "    </tr>\n",
              "    <tr>\n",
              "      <th>...</th>\n",
              "      <td>...</td>\n",
              "      <td>...</td>\n",
              "    </tr>\n",
              "    <tr>\n",
              "      <th>20770</th>\n",
              "      <td>47340</td>\n",
              "      <td>0.732489</td>\n",
              "    </tr>\n",
              "    <tr>\n",
              "      <th>20771</th>\n",
              "      <td>47341</td>\n",
              "      <td>0.593612</td>\n",
              "    </tr>\n",
              "    <tr>\n",
              "      <th>20772</th>\n",
              "      <td>47342</td>\n",
              "      <td>0.583476</td>\n",
              "    </tr>\n",
              "    <tr>\n",
              "      <th>20773</th>\n",
              "      <td>47343</td>\n",
              "      <td>0.713768</td>\n",
              "    </tr>\n",
              "    <tr>\n",
              "      <th>20774</th>\n",
              "      <td>47344</td>\n",
              "      <td>0.630287</td>\n",
              "    </tr>\n",
              "  </tbody>\n",
              "</table>\n",
              "<p>20775 rows × 2 columns</p>\n",
              "</div>\n",
              "      <button class=\"colab-df-convert\" onclick=\"convertToInteractive('df-cb83ea2a-fa2d-45d2-a6b2-09b2434da95a')\"\n",
              "              title=\"Convert this dataframe to an interactive table.\"\n",
              "              style=\"display:none;\">\n",
              "        \n",
              "  <svg xmlns=\"http://www.w3.org/2000/svg\" height=\"24px\"viewBox=\"0 0 24 24\"\n",
              "       width=\"24px\">\n",
              "    <path d=\"M0 0h24v24H0V0z\" fill=\"none\"/>\n",
              "    <path d=\"M18.56 5.44l.94 2.06.94-2.06 2.06-.94-2.06-.94-.94-2.06-.94 2.06-2.06.94zm-11 1L8.5 8.5l.94-2.06 2.06-.94-2.06-.94L8.5 2.5l-.94 2.06-2.06.94zm10 10l.94 2.06.94-2.06 2.06-.94-2.06-.94-.94-2.06-.94 2.06-2.06.94z\"/><path d=\"M17.41 7.96l-1.37-1.37c-.4-.4-.92-.59-1.43-.59-.52 0-1.04.2-1.43.59L10.3 9.45l-7.72 7.72c-.78.78-.78 2.05 0 2.83L4 21.41c.39.39.9.59 1.41.59.51 0 1.02-.2 1.41-.59l7.78-7.78 2.81-2.81c.8-.78.8-2.07 0-2.86zM5.41 20L4 18.59l7.72-7.72 1.47 1.35L5.41 20z\"/>\n",
              "  </svg>\n",
              "      </button>\n",
              "      \n",
              "  <style>\n",
              "    .colab-df-container {\n",
              "      display:flex;\n",
              "      flex-wrap:wrap;\n",
              "      gap: 12px;\n",
              "    }\n",
              "\n",
              "    .colab-df-convert {\n",
              "      background-color: #E8F0FE;\n",
              "      border: none;\n",
              "      border-radius: 50%;\n",
              "      cursor: pointer;\n",
              "      display: none;\n",
              "      fill: #1967D2;\n",
              "      height: 32px;\n",
              "      padding: 0 0 0 0;\n",
              "      width: 32px;\n",
              "    }\n",
              "\n",
              "    .colab-df-convert:hover {\n",
              "      background-color: #E2EBFA;\n",
              "      box-shadow: 0px 1px 2px rgba(60, 64, 67, 0.3), 0px 1px 3px 1px rgba(60, 64, 67, 0.15);\n",
              "      fill: #174EA6;\n",
              "    }\n",
              "\n",
              "    [theme=dark] .colab-df-convert {\n",
              "      background-color: #3B4455;\n",
              "      fill: #D2E3FC;\n",
              "    }\n",
              "\n",
              "    [theme=dark] .colab-df-convert:hover {\n",
              "      background-color: #434B5C;\n",
              "      box-shadow: 0px 1px 3px 1px rgba(0, 0, 0, 0.15);\n",
              "      filter: drop-shadow(0px 1px 2px rgba(0, 0, 0, 0.3));\n",
              "      fill: #FFFFFF;\n",
              "    }\n",
              "  </style>\n",
              "\n",
              "      <script>\n",
              "        const buttonEl =\n",
              "          document.querySelector('#df-cb83ea2a-fa2d-45d2-a6b2-09b2434da95a button.colab-df-convert');\n",
              "        buttonEl.style.display =\n",
              "          google.colab.kernel.accessAllowed ? 'block' : 'none';\n",
              "\n",
              "        async function convertToInteractive(key) {\n",
              "          const element = document.querySelector('#df-cb83ea2a-fa2d-45d2-a6b2-09b2434da95a');\n",
              "          const dataTable =\n",
              "            await google.colab.kernel.invokeFunction('convertToInteractive',\n",
              "                                                     [key], {});\n",
              "          if (!dataTable) return;\n",
              "\n",
              "          const docLinkHtml = 'Like what you see? Visit the ' +\n",
              "            '<a target=\"_blank\" href=https://colab.research.google.com/notebooks/data_table.ipynb>data table notebook</a>'\n",
              "            + ' to learn more about interactive tables.';\n",
              "          element.innerHTML = '';\n",
              "          dataTable['output_type'] = 'display_data';\n",
              "          await google.colab.output.renderOutput(dataTable, element);\n",
              "          const docLink = document.createElement('div');\n",
              "          docLink.innerHTML = docLinkHtml;\n",
              "          element.appendChild(docLink);\n",
              "        }\n",
              "      </script>\n",
              "    </div>\n",
              "  </div>\n",
              "  "
            ],
            "text/plain": [
              "          id   failure\n",
              "0      26570  0.700258\n",
              "1      26571  0.660550\n",
              "2      26572  0.695365\n",
              "3      26573  0.697524\n",
              "4      26574  0.826073\n",
              "...      ...       ...\n",
              "20770  47340  0.732489\n",
              "20771  47341  0.593612\n",
              "20772  47342  0.583476\n",
              "20773  47343  0.713768\n",
              "20774  47344  0.630287\n",
              "\n",
              "[20775 rows x 2 columns]"
            ]
          },
          "execution_count": 12,
          "metadata": {},
          "output_type": "execute_result"
        }
      ],
      "source": [
        "submit['failure'] = submit['id'].map(state)\n",
        "submit"
      ]
    },
    {
      "cell_type": "code",
      "execution_count": 13,
      "metadata": {
        "id": "co1vTMj9cDOM"
      },
      "outputs": [],
      "source": [
        "submit.to_csv('submit.csv', index = False)"
      ]
    }
  ],
  "metadata": {
    "colab": {
      "provenance": []
    },
    "kernelspec": {
      "display_name": "Python 3",
      "language": "python",
      "name": "python3"
    },
    "language_info": {
      "name": "python",
      "version": "3.9.9 (v3.9.9:ccb0e6a345, Nov 15 2021, 13:06:05) \n[Clang 13.0.0 (clang-1300.0.29.3)]"
    },
    "vscode": {
      "interpreter": {
        "hash": "aee8b7b246df8f9039afb4144a1f6fd8d2ca17a180786b69acc140d282b71a49"
      }
    }
  },
  "nbformat": 4,
  "nbformat_minor": 0
}
